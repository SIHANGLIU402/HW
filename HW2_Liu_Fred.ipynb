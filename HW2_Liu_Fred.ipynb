{
 "cells": [
  {
   "cell_type": "code",
   "execution_count": 3,
   "id": "b1a091d1",
   "metadata": {},
   "outputs": [
    {
     "name": "stdout",
     "output_type": "stream",
     "text": [
      "0\n",
      "1\n",
      "2\n",
      "3\n",
      "4\n"
     ]
    }
   ],
   "source": [
    "#1\n",
    "n = 0\n",
    "while n < 10:\n",
    "    print(n)\n",
    "    n += 1\n",
    "    if n == 5:\n",
    "        break"
   ]
  },
  {
   "cell_type": "code",
   "execution_count": 4,
   "id": "1ecd9918",
   "metadata": {},
   "outputs": [
    {
     "name": "stdout",
     "output_type": "stream",
     "text": [
      "0\n",
      "1\n",
      "2\n",
      "3\n",
      "4\n",
      "5 is not less that 5\n"
     ]
    }
   ],
   "source": [
    "#2\n",
    "n = 0\n",
    "while n < 5:\n",
    "    print(n)\n",
    "    n += 1\n",
    "    if n >= 5:\n",
    "        print(n, \"is not less that 5\")\n",
    "        break"
   ]
  },
  {
   "cell_type": "code",
   "execution_count": 8,
   "id": "a469f777",
   "metadata": {},
   "outputs": [
    {
     "name": "stdout",
     "output_type": "stream",
     "text": [
      "I like banana\n",
      "I like orange\n",
      "apple is really a fruit?\n"
     ]
    }
   ],
   "source": [
    "#3\n",
    "fruit = [\"banana\", \"orange\", \"apple\", \"kiwi\"]\n",
    "for item in fruit:\n",
    "    if item == \"apple\":\n",
    "        print(\"apple is really a fruit?\")\n",
    "        break\n",
    "    print(\"I like\", item)"
   ]
  },
  {
   "cell_type": "code",
   "execution_count": 12,
   "id": "02a3d09f",
   "metadata": {},
   "outputs": [
    {
     "name": "stdout",
     "output_type": "stream",
     "text": [
      "465\n"
     ]
    }
   ],
   "source": [
    "#4\n",
    "n = 0\n",
    "sum = 0\n",
    "while n < 31:\n",
    "    sum += n\n",
    "    n += 1\n",
    "print(sum)"
   ]
  },
  {
   "cell_type": "code",
   "execution_count": 16,
   "id": "dce91109",
   "metadata": {},
   "outputs": [
    {
     "name": "stdout",
     "output_type": "stream",
     "text": [
      "student with grade 55 is F\n",
      "student with grade 65 is D\n",
      "student with grade 75 is C\n",
      "student with grade 80 is B\n",
      "student with grade 90 is A\n",
      "student with grade 100 is A\n"
     ]
    }
   ],
   "source": [
    "#5\n",
    "grade = [55, 65, 75, 80, 90, 100]\n",
    "for i in grade:\n",
    "    if i >= 90:\n",
    "        print(\"student with grade\", i, \"is A\")\n",
    "    elif i >= 80 and i < 90:\n",
    "        print(\"student with grade\", i, \"is B\")\n",
    "    elif i >= 70 and i < 80:\n",
    "        print(\"student with grade\", i, \"is C\")\n",
    "    elif i >= 60 and i < 70:\n",
    "        print(\"student with grade\", i, \"is D\")\n",
    "    else:\n",
    "        print(\"student with grade\", i, \"is F\")"
   ]
  },
  {
   "cell_type": "code",
   "execution_count": 36,
   "id": "8773d049",
   "metadata": {},
   "outputs": [
    {
     "name": "stdout",
     "output_type": "stream",
     "text": [
      "Andy: 88\n",
      "Amy: 66\n",
      "James: 90\n",
      "Jules: 55\n",
      "Arthur: 77\n",
      "mean: 75.2\n",
      "maximum: 90\n",
      "minimum: 55\n",
      "Andy\n",
      "Amy\n",
      "\n",
      "Andy\n",
      "Amy\n",
      "Arthur\n"
     ]
    }
   ],
   "source": [
    "#6\n",
    "#6.1\n",
    "marks = {'Andy':88, 'Amy':66, 'James': 90, 'Jules': 55, 'Arthur': 77}\n",
    "for key, value in marks.items():\n",
    "    print(key + ':', value)\n",
    "print()\n",
    "\n",
    "#6.2\n",
    "count = 0\n",
    "gradesum = 0\n",
    "for key in marks:\n",
    "    count += 1\n",
    "    gradesum += marks[key]\n",
    "print('mean:', gradesum/count)\n",
    "maximum = max(marks, key=marks.get)\n",
    "print(\"maximum:\", marks[maximum])\n",
    "minimum = min(marks, key=marks.get)\n",
    "print(\"minimum:\", marks[minimum])\n",
    "print()\n",
    "\n",
    "#6.3\n",
    "for i in marks:\n",
    "    if \"J\" in i:\n",
    "        break\n",
    "    print(i)\n",
    "print()\n",
    "\n",
    "#6.4\n",
    "for i in marks:\n",
    "    if \"J\" in i:\n",
    "        continue\n",
    "    print(i)"
   ]
  }
 ],
 "metadata": {
  "kernelspec": {
   "display_name": "Python 3 (ipykernel)",
   "language": "python",
   "name": "python3"
  },
  "language_info": {
   "codemirror_mode": {
    "name": "ipython",
    "version": 3
   },
   "file_extension": ".py",
   "mimetype": "text/x-python",
   "name": "python",
   "nbconvert_exporter": "python",
   "pygments_lexer": "ipython3",
   "version": "3.9.7"
  }
 },
 "nbformat": 4,
 "nbformat_minor": 5
}
