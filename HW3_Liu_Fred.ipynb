{
 "cells": [
  {
   "cell_type": "code",
   "execution_count": 83,
   "id": "a6ecad5f",
   "metadata": {},
   "outputs": [
    {
     "name": "stdout",
     "output_type": "stream",
     "text": [
      "66\n",
      "75.2\n"
     ]
    }
   ],
   "source": [
    "#1\n",
    "#1.1\n",
    "marks = {'Andy':88, 'Amy':66, 'James': 90, 'Jules': 55, 'Arthur': 77}\n",
    "\n",
    "def grade(name):\n",
    "    for key,value in marks.items():\n",
    "        if name == key:\n",
    "            print(marks[name])\n",
    "    if name not in marks:\n",
    "        print(\"cannot find this student's name\")\n",
    "grade('Amy')\n",
    "\n",
    "#1.2\n",
    "def average():\n",
    "    count = 0\n",
    "    gradesum = 0\n",
    "    for key in marks:\n",
    "        count += 1\n",
    "        gradesum += marks[key]\n",
    "    return gradesum/count\n",
    "avg = average()\n",
    "print(avg)"
   ]
  },
  {
   "cell_type": "code",
   "execution_count": 87,
   "id": "a98345ce",
   "metadata": {},
   "outputs": [
    {
     "name": "stdout",
     "output_type": "stream",
     "text": [
      "5 25\n",
      "6 36\n",
      "7 49\n",
      "8 64\n",
      "n greater than num\n"
     ]
    }
   ],
   "source": [
    "#2\n",
    "def less_than(n, num):\n",
    "    while n <= num:\n",
    "        print(n, n*n)\n",
    "        n += 1\n",
    "    print(\"n greater than num\")\n",
    "less_than(5, 8)"
   ]
  },
  {
   "cell_type": "code",
   "execution_count": 90,
   "id": "aea8a2e0",
   "metadata": {},
   "outputs": [
    {
     "name": "stdout",
     "output_type": "stream",
     "text": [
      "36\n"
     ]
    }
   ],
   "source": [
    "#3\n",
    "def add(num):\n",
    "    n = 0\n",
    "    sum = 0\n",
    "    while n <= num:\n",
    "        sum += n\n",
    "        n += 1\n",
    "    return sum\n",
    "\n",
    "add1 = add(8)\n",
    "print(add1)"
   ]
  },
  {
   "cell_type": "code",
   "execution_count": 96,
   "id": "d7598f29",
   "metadata": {},
   "outputs": [
    {
     "name": "stdout",
     "output_type": "stream",
     "text": [
      "1\n",
      "3\n",
      "6\n",
      "10\n",
      "15\n",
      "21\n",
      "28\n",
      "36\n"
     ]
    }
   ],
   "source": [
    "#4\n",
    "def add(num):\n",
    "    sum = 0\n",
    "    for n in range (1, num+1):\n",
    "        sum += n\n",
    "        print(sum)\n",
    "\n",
    "add(8)\n"
   ]
  },
  {
   "cell_type": "code",
   "execution_count": 102,
   "id": "7d4a8b42",
   "metadata": {},
   "outputs": [
    {
     "name": "stdout",
     "output_type": "stream",
     "text": [
      "sum is 5050\n",
      "mean is 50.5\n",
      "standard deviation is 28.86607004772212\n"
     ]
    }
   ],
   "source": [
    "#5\n",
    "import numpy as np\n",
    "num = np.arange(1,101)\n",
    "print(f'sum is {num.sum()}')\n",
    "print(f'mean is {num.mean()}')\n",
    "print(f'standard deviation is {num.std()}')"
   ]
  },
  {
   "cell_type": "code",
   "execution_count": 110,
   "id": "b7de09e8",
   "metadata": {},
   "outputs": [
    {
     "name": "stdout",
     "output_type": "stream",
     "text": [
      "10\n"
     ]
    }
   ],
   "source": [
    "#6\n",
    "#6.1\n",
    "def minimal(v1,v2,v3,v4):\n",
    "    minimal = v1\n",
    "    if v2 < minimal:\n",
    "        minimal = v2\n",
    "    elif v3 < minimal:\n",
    "        minimal = v3\n",
    "    elif v4 < minimal:\n",
    "        minimal = v4\n",
    "    return minimal\n",
    "#6.2\n",
    "def printnum(num):\n",
    "    print(num)\n",
    "\n",
    "findmin = minimal(20,10,30,40)\n",
    "printnum(findmin)"
   ]
  }
 ],
 "metadata": {
  "kernelspec": {
   "display_name": "Python 3 (ipykernel)",
   "language": "python",
   "name": "python3"
  },
  "language_info": {
   "codemirror_mode": {
    "name": "ipython",
    "version": 3
   },
   "file_extension": ".py",
   "mimetype": "text/x-python",
   "name": "python",
   "nbconvert_exporter": "python",
   "pygments_lexer": "ipython3",
   "version": "3.9.7"
  }
 },
 "nbformat": 4,
 "nbformat_minor": 5
}
