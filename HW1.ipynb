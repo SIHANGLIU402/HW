{
 "cells": [
  {
   "cell_type": "code",
   "execution_count": 6,
   "id": "2c4cec0b",
   "metadata": {},
   "outputs": [
    {
     "name": "stdout",
     "output_type": "stream",
     "text": [
      "[30, 35, 40, 45, 50, 55, 60]\n",
      "[60, 55, 50, 45, 40, 35, 30]\n",
      "[65, 60, 55, 50, 45, 40, 35, 30]\n"
     ]
    }
   ],
   "source": [
    "#1\n",
    "num = list(range(30, 61, 5))\n",
    "print(num)\n",
    "num2 = num[::-1]\n",
    "print(num2)\n",
    "num3 = [65] + num2\n",
    "print(num3)"
   ]
  },
  {
   "cell_type": "code",
   "execution_count": 15,
   "id": "a9bbbfe6",
   "metadata": {},
   "outputs": [
    {
     "name": "stdout",
     "output_type": "stream",
     "text": [
      "[0, 1, 2, 3, 4, 5, 6, 7, 8, 9, 10, 11, 12, 13, 14, 15, 16, 17, 18, 19, 20]\n",
      "[1, 2, 3, 4, 5, 6, 7, 8, 9, 10, 11, 12, 13, 14, 15, 16, 17, 18, 19, 20]\n",
      "20\n",
      "20\n",
      "1\n",
      "210\n"
     ]
    }
   ],
   "source": [
    "#2\n",
    "list1 = []\n",
    "list1 = list(range(0,21))\n",
    "print(list1)\n",
    "list1.remove(0)\n",
    "print(list1)\n",
    "print(len(list1))\n",
    "print(max(list1))\n",
    "print(min(list1))\n",
    "print(sum(list1))"
   ]
  },
  {
   "cell_type": "code",
   "execution_count": 23,
   "id": "72a06400",
   "metadata": {},
   "outputs": [
    {
     "name": "stdout",
     "output_type": "stream",
     "text": [
      "When Sunny let us play\n",
      "When Rainy let us watch TV\n",
      "When Cloudy let us walk\n",
      "{'Sunny': 'play', 'Rainy': 'watch TV', 'Cloudy': 'walk', 'snowy': 'ski'}\n"
     ]
    }
   ],
   "source": [
    "#3\n",
    "dic = {\"Sunny\": \"play\", \n",
    "      \"Rainy\": \"watch TV\",\n",
    "      \"Cloudy\": \"walk\"}\n",
    "for key, value in dic.items():\n",
    "    print(\"When\", key, \"let us\", value)\n",
    "dic.update({\"snowy\": \"ski\"})\n",
    "print(dic)"
   ]
  }
 ],
 "metadata": {
  "kernelspec": {
   "display_name": "Python 3 (ipykernel)",
   "language": "python",
   "name": "python3"
  },
  "language_info": {
   "codemirror_mode": {
    "name": "ipython",
    "version": 3
   },
   "file_extension": ".py",
   "mimetype": "text/x-python",
   "name": "python",
   "nbconvert_exporter": "python",
   "pygments_lexer": "ipython3",
   "version": "3.9.7"
  }
 },
 "nbformat": 4,
 "nbformat_minor": 5
}
